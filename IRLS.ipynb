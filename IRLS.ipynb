{
 "cells": [
  {
   "cell_type": "code",
   "execution_count": 1,
   "metadata": {
    "collapsed": true
   },
   "outputs": [],
   "source": [
    "from sklearn.datasets import load_boston\n",
    "from sklearn import preprocessing\n",
    "import pandas as pd\n",
    "import re\n",
    "import numpy as np\n",
    "import matplotlib.pyplot as plt"
   ]
  },
  {
   "cell_type": "code",
   "execution_count": 2,
   "metadata": {
    "collapsed": true
   },
   "outputs": [],
   "source": [
    "def binary_predict(x,W):\n",
    "    x = np.hstack((np.ones((x.shape[0], 1)), x))\n",
    "    Y = sigmoid(np.dot(x, W))\n",
    "    Y[Y < 0.5] = 0\n",
    "    Y[Y >= 0.5] = 1\n",
    "    return Y"
   ]
  },
  {
   "cell_type": "code",
   "execution_count": 3,
   "metadata": {
    "collapsed": true
   },
   "outputs": [],
   "source": [
    "def sigmoid(scores):\n",
    "    return 1 / (1 + np.exp(-scores))"
   ]
  },
  {
   "cell_type": "code",
   "execution_count": 4,
   "metadata": {
    "collapsed": true
   },
   "outputs": [],
   "source": [
    "def binary_class_logistic_regression(x, y, num_steps):\n",
    "    x_train = np.hstack((np.ones((x.shape[0], 1)), x))\n",
    "    N, d = x_train.shape\n",
    "    W = np.zeros((d,1))\n",
    "    for step in range(num_steps):\n",
    "        mu = sigmoid(np.dot(x_train, W))\n",
    "        R = np.zeros((N,N)) \n",
    "        for i in range(N):\n",
    "            R[i,i] = mu[i] * (1 - mu[i])\n",
    "        XRX = np.matmul(x_train.T, np.matmul(R,x_train))\n",
    "        XRX_pinv = np.linalg.pinv(XRX) \n",
    "        z = np.dot(x_train, W) - np.linalg.pinv(R).dot(mu - y.reshape(N,1))\n",
    "        W = np.dot(XRX_pinv, np.dot(x_train.T, np.dot(R, z)))\n",
    "    return W.flatten()"
   ]
  },
  {
   "cell_type": "code",
   "execution_count": 5,
   "metadata": {
    "collapsed": true
   },
   "outputs": [],
   "source": [
    "def softmax(x):\n",
    "    e = np.exp(x - np.max(x)) \n",
    "    return e / np.array([np.sum(e, axis=1)]).T "
   ]
  },
  {
   "cell_type": "code",
   "execution_count": 6,
   "metadata": {
    "collapsed": true
   },
   "outputs": [],
   "source": [
    "def multi_predict(x,W):\n",
    "    x = np.hstack((np.ones((x.shape[0], 1)), x))\n",
    "    Y = softmax(np.dot(x, W))\n",
    "    Y = np.argmax(Y, axis=1)\n",
    "    return Y"
   ]
  },
  {
   "cell_type": "code",
   "execution_count": 7,
   "metadata": {
    "collapsed": true
   },
   "outputs": [],
   "source": [
    "def multi_class_logistic_regression(x, y, num_steps):\n",
    "    x_train = np.hstack((np.ones((x.shape[0], 1)), x))\n",
    "    N, d = x_train.shape\n",
    "    n_labels = len(np.unique(y))\n",
    "    W = np.zeros((d,n_labels))\n",
    "    Y_1_hot = np.eye(n_labels)[y]\n",
    "    for step in range(num_steps):\n",
    "        mu = softmax(np.dot(x_train, W))\n",
    "        R = mu * (1 - mu) \n",
    "        for i in range(n_labels):\n",
    "            R_i = np.diag(R[:,i])\n",
    "            W[:,i] = W[:,i] - np.linalg.pinv(np.dot((x_train.T).dot(R_i),x_train)).dot(x_train.T).dot(mu[:,i]-Y_1_hot[:,i])\n",
    "    return W"
   ]
  },
  {
   "cell_type": "code",
   "execution_count": 8,
   "metadata": {
    "collapsed": true
   },
   "outputs": [],
   "source": [
    "def evaluate_binary(X_train,Y_train,X_test,Y_test):\n",
    "    W = binary_class_logistic_regression(X_train,Y_train,6)\n",
    "    Y = binary_predict(X_test,W)\n",
    "    test_error = sum(Y_test!=Y)/len(Y_test)\n",
    "    return test_error"
   ]
  },
  {
   "cell_type": "code",
   "execution_count": 9,
   "metadata": {
    "collapsed": true
   },
   "outputs": [],
   "source": [
    "def evaluate_multi(X_train,Y_train,X_test,Y_test):\n",
    "    W = multi_class_logistic_regression(X_train,Y_train,2)\n",
    "    Y = multi_predict(X_test,W)\n",
    "    test_error = sum(Y_test!=Y)/len(Y_test)\n",
    "    return test_error"
   ]
  },
  {
   "cell_type": "code",
   "execution_count": 10,
   "metadata": {
    "collapsed": true
   },
   "outputs": [],
   "source": [
    "def _split_dataset(dataset, train_set_size):\n",
    "    N = dataset.shape[0]\n",
    "    split_dataset = np.array(np.array_split(dataset, [int(train_set_size * N)]))\n",
    "    return split_dataset"
   ]
  },
  {
   "cell_type": "code",
   "execution_count": 11,
   "metadata": {},
   "outputs": [],
   "source": [
    "# filename = 'boston.csv'\n",
    "# num_splits = 10\n",
    "# train_percent = [10, 25, 50, 75, 100]\n",
    "def boston_logistic_regression(filename,num_splits,train_percent):\n",
    "    error = np.zeros((num_splits,len(train_percent)))\n",
    "    bos = pd.read_csv(filename)\n",
    "    X_arr = bos.iloc[:,0:bos.shape[1]-1].values\n",
    "    Y_arr = bos.iloc[:,-1].values\n",
    "    p = np.percentile(Y_arr, 50)\n",
    "    Y_arr[Y_arr < p] = 0\n",
    "    Y_arr[Y_arr >= p] = 1\n",
    "    s = np.arange(len(X_arr))\n",
    "    n_classes = 2\n",
    "    for i in range(num_splits):\n",
    "        np.random.shuffle(s)\n",
    "        X_cv = X_arr[s]\n",
    "        Y_cv = Y_arr[s]\n",
    "        dataset = np.column_stack((X_cv,Y_cv))\n",
    "        split_dataset = []\n",
    "        for k in range(n_classes):\n",
    "            split_class_dataset = _split_dataset(dataset[Y_cv==k],0.8)\n",
    "            split_dataset.append(split_class_dataset)\n",
    "        train_data = []\n",
    "        test_data = []\n",
    "        for data in split_dataset:\n",
    "            train_data.append(data[0])\n",
    "            test_data.append(data[1])\n",
    "        training_data = np.vstack(train_data) \n",
    "        test_data = np.vstack(test_data)\n",
    "        t = np.arange(len(training_data))\n",
    "        np.random.shuffle(t)\n",
    "        training_data = training_data[t]\n",
    "        u = np.arange(len(test_data))\n",
    "        np.random.shuffle(u)\n",
    "        test_data = test_data[u]\n",
    "        X_test, Y_test = test_data[:,:-1], test_data[:,-1]\n",
    "        print(\"=========================Evaluation for split: \",i,\"========================\")\n",
    "        for idx,percent in enumerate(train_percent):\n",
    "            X_train, Y_train = training_data[0:int(percent*len(training_data)/100),:-1], training_data[0:int(percent*len(training_data)/100),-1]\n",
    "            error[i,idx] = evaluate_binary(X_train,Y_train,X_test,Y_test)\n",
    "            print(\"Test error for \",percent,\"% training:\",error[i,idx])\n",
    "    print(\"========Mean test error rate across all splits for training percentage:\")\n",
    "    mean_error = np.mean(error,axis=0)\n",
    "    for i in range(len(train_percent)):\n",
    "        print(train_percent[i],\"% ==>\", mean_error[i])\n",
    "    std_dev = np.std(error,axis=0)\n",
    "    fig, axs = plt.subplots(nrows=1, ncols=2)\n",
    "    ax = axs[0]\n",
    "    ax.plot(train_percent, mean_error)\n",
    "    ax.set_title('Mean error vs training percentage')\n",
    "    ax = axs[1]\n",
    "    ax.plot(train_percent, std_dev)\n",
    "    ax.set_title('Standard deviation')\n",
    "    plt.show()"
   ]
  },
  {
   "cell_type": "code",
   "execution_count": 12,
   "metadata": {},
   "outputs": [],
   "source": [
    "# filename = 'digits.csv'\n",
    "# num_splits = 10\n",
    "# if re.compile(\".*digits.*\").match(filename):\n",
    "def digits_logistic_regression(filename,num_splits,train_percent):\n",
    "    error = np.zeros((num_splits,len(train_percent)))\n",
    "    digits = pd.read_csv(filename)\n",
    "    X = digits.iloc[:,0:digits.shape[1]-1].values\n",
    "    Y = digits.iloc[:,-1].values\n",
    "    n_labels = len(np.unique(Y))\n",
    "    s = np.arange(len(X))\n",
    "    n_classes = n_labels\n",
    "    for i in range(num_splits):\n",
    "        np.random.shuffle(s)\n",
    "        X_cv = X[s]\n",
    "        Y_cv = Y[s]\n",
    "        dataset = np.column_stack((X_cv,Y_cv))\n",
    "        split_dataset = []\n",
    "        for k in range(n_classes):\n",
    "            split_class_dataset = _split_dataset(dataset[Y_cv==k],0.8)\n",
    "            split_dataset.append(split_class_dataset)\n",
    "        train_data = []\n",
    "        test_data = []\n",
    "        for data in split_dataset:\n",
    "            train_data.append(data[0])\n",
    "            test_data.append(data[1])\n",
    "        training_data = np.vstack(train_data) \n",
    "        test_data = np.vstack(test_data)\n",
    "        t = np.arange(len(training_data))\n",
    "        np.random.shuffle(t)\n",
    "        training_data = training_data[t]\n",
    "        u = np.arange(len(test_data))\n",
    "        np.random.shuffle(u)\n",
    "        test_data = test_data[u]\n",
    "        X_test, Y_test = test_data[:,:-1], test_data[:,-1]\n",
    "        print(\"=========================Evaluation for split: \",i,\"========================\")\n",
    "        for idx,percent in enumerate(train_percent):\n",
    "            X_train, Y_train = training_data[0:int(percent*len(training_data)/100),:-1], training_data[0:int(percent*len(training_data)/100),-1]\n",
    "            error[i,idx] = evaluate_multi(X_train,Y_train,X_test,Y_test)\n",
    "            print(\"Test error for \",percent,\"% training:\",error[i,idx])\n",
    "    print(\"========Mean test error rate across all splits for training percentage:\")\n",
    "    mean_error = np.mean(error,axis=0)\n",
    "    for i in range(len(train_percent)):\n",
    "        print(train_percent[i],\"% ==>\", mean_error[i])\n",
    "    std_dev = np.std(error,axis=0)\n",
    "    fig, axes = plt.subplots(nrows=1, ncols=2)\n",
    "    ax = axes[0]\n",
    "    ax.plot(train_percent, mean_error)\n",
    "    ax.set_title('Mean error vs training percentage')\n",
    "    ax = axes[1]\n",
    "    ax.plot(train_percent, std_dev)\n",
    "    ax.set_title('Standard deviation')\n",
    "    plt.show()"
   ]
  },
  {
   "cell_type": "code",
   "execution_count": 13,
   "metadata": {},
   "outputs": [],
   "source": [
    "def logisticRegression(filename,num_splits,train_percent):\n",
    "    import re\n",
    "    if re.compile(\".*boston.*\").match(filename):\n",
    "        boston_logistic_regression(filename,num_splits,train_percent)\n",
    "    if re.compile(\".*digits.*\").match(filename):\n",
    "        digits_logistic_regression(filename,num_splits,train_percent)"
   ]
  },
  {
   "cell_type": "code",
   "execution_count": 15,
   "metadata": {},
   "outputs": [
    {
     "name": "stdout",
     "output_type": "stream",
     "text": [
      "=========================Evaluation for split:  0 ========================\n",
      "Test error for  10 % training: 0.19607843137254902\n",
      "Test error for  25 % training: 0.21568627450980393\n",
      "Test error for  50 % training: 0.12745098039215685\n",
      "Test error for  75 % training: 0.12745098039215685\n",
      "Test error for  100 % training: 0.1568627450980392\n",
      "=========================Evaluation for split:  1 ========================\n",
      "Test error for  10 % training: 0.2647058823529412\n",
      "Test error for  25 % training: 0.22549019607843138\n",
      "Test error for  50 % training: 0.18627450980392157\n",
      "Test error for  75 % training: 0.16666666666666666\n",
      "Test error for  100 % training: 0.18627450980392157\n",
      "========Mean test error rate across all splits for training percentage:\n",
      "10 % ==> 0.2303921568627451\n",
      "25 % ==> 0.22058823529411764\n",
      "50 % ==> 0.1568627450980392\n",
      "75 % ==> 0.14705882352941174\n",
      "100 % ==> 0.1715686274509804\n"
     ]
    },
    {
     "data": {
      "image/png": "[encoded data removed]",
      "text/plain": [
       "<matplotlib.figure.Figure at 0x285cfab5ba8>"
      ]
     },
     "metadata": {},
     "output_type": "display_data"
    }
   ],
   "source": [
    "if __name__ == '__main__':\n",
    "    import sys\n",
    "    num_splits = 2\n",
    "    train_set_percentages = [10, 25, 50, 75, 100]\n",
    "    filename = 'boston.csv' #sys.argv[1]\n",
    "    try:\n",
    "        num_splits = int(sys.argv[2])\n",
    "        train_set_percentages = [int(x) for x in sys.argv[3].split(',')]\n",
    "    except:\n",
    "        pass\n",
    "    logisticRegression(filename, num_splits, train_set_percentages)"
   ]
  },
  {
   "cell_type": "code",
   "execution_count": 16,
   "metadata": {},
   "outputs": [
    {
     "data": {
      "text/plain": [
       "'C:\\\\Users\\\\manis'"
      ]
     },
     "execution_count": 16,
     "metadata": {},
     "output_type": "execute_result"
    }
   ],
   "source": [
    "pwd"
   ]
  },
  {
   "cell_type": "code",
   "execution_count": null,
   "metadata": {
    "collapsed": true
   },
   "outputs": [],
   "source": []
  }
 ],
 "metadata": {
  "kernelspec": {
   "display_name": "Python 3",
   "language": "python",
   "name": "python3"
  },
  "language_info": {
   "codemirror_mode": {
    "name": "ipython",
    "version": 3
   },
   "file_extension": ".py",
   "mimetype": "text/x-python",
   "name": "python",
   "nbconvert_exporter": "python",
   "pygments_lexer": "ipython3",
   "version": "3.6.3"
  }
 },
 "nbformat": 4,
 "nbformat_minor": 2
}
